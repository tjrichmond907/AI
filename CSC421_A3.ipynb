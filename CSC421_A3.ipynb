{
 "cells": [
  {
   "cell_type": "markdown",
   "metadata": {},
   "source": [
    "# CSC421 Fall 2021 Assignment 3 \n",
    "### Author: George Tzanetakis \n",
    "\n",
    "This notebook is based on the topics covered in **Chapter 12 - Quantifying Uncertainty **, **Chapter 13 Probabilistic Reasoning** from the book *Artificial Intelligence: A Modern Approach.*  You are welcome and actually it can be educational to look at the code at the aima-code repository as well as other code resources you can find on the web. However, make sure you understand any code that you incoporate. \n",
    "\n",
    "The assignment structure is as follows - each item is worth 1 point: \n",
    "\n",
    "1. Snakes and ladder simulation (Basic) - basic rolling and movement simulation, no ladders/snakes \n",
    "2. Snakes and ladder simulation (Basic) - multiple simulations and recording of number of rolls \n",
    "3. Snakes and ladder simulation (Expected) - adding of user-specified ladders/snakes \n",
    "4. Snakes and ladder simulation (Expected) - simulation to determine probability distribution of number of rolls \n",
    "5. Snakes and ladder simulation (Advanced) - exact inference + simulation with different ending rules \n",
    "6. Naive Bayes text classsification (Basic) - conditional probabilities for dictionary words \n",
    "7. Naive Bayes text classification (Basic) - markdown equations for Bernoulli \n",
    "8. Naive Bayes text classification (Expected) - prediction of movie review polarity \n",
    "9. Naive Bayes text classification (Expected) - classification accuracy and confusion matrix \n",
    "10. Naive Bayes text classification (Advanced) - probabilitistic generation of movie reviews \n",
    "\n",
    "The grading will be done in 0.5 increments. 1 point for correct answer, 0.5 points for partial or incorrect \n",
    "but reasonable answer and 0.0 for no answer or completely wrong answer. \n"
   ]
  },
  {
   "cell_type": "markdown",
   "metadata": {},
   "source": [
    "# Introduction \n",
    "\n",
    "This question uses the board game of snakes and ladders to explore the concepts behind probability, \n",
    "stochastic simulation as well as exact and approximate inference. I assume that most of you are familiar \n",
    "with snakes and ladders. If you need a refresher check the following link: \n",
    "\n",
    "https://www.ymimports.com/pages/how-to-play-snakes-and-ladders\n",
    "\n",
    "\n"
   ]
  },
  {
   "cell_type": "markdown",
   "metadata": {},
   "source": [
    "# Question 1 (Basic)  - 1 point\n",
    "\n",
    "Your first task will be to write a simple movement simulator on a snakes and ladders board. \n",
    "For this question you can ignore the snakes and ladders and just simply assume you only \n",
    "have to deal with moving. You will need to simulate rolling the die - this can be done \n",
    "by using the Python *random* module and the *randint* method. Your function *play_game* \n",
    "will take as input the length of the board (an integer), \"play\" the game by rolling the die \n",
    "multiple times until the sum of rolls is larger or equal to the length of the board.  (note: \n",
    "this is one of the possible and simplest end rules). The function should return the total \n",
    "number of rolls required to finish the the particular game that was played. Obviously \n",
    "this number will vary as it depends on the specific random rolls performed during the movement \n",
    "simulation. \n",
    "\n",
    "\n",
    "\n",
    "\n"
   ]
  },
  {
   "cell_type": "code",
   "execution_count": 3,
   "metadata": {},
   "outputs": [
    {
     "name": "stdout",
     "output_type": "stream",
     "text": [
      "1\n",
      "4\n",
      "27\n",
      "277\n"
     ]
    }
   ],
   "source": [
    "# YOUR CODE GOES HERE \n",
    "import random \n",
    "\n",
    "def play_game(board_len):\n",
    "    num_rolls = 0\n",
    "    location = 0\n",
    "    while location < board_len:\n",
    "        roll = random.randint(1,6)\n",
    "        location += roll\n",
    "        num_rolls += 1\n",
    "    return num_rolls\n",
    "\n",
    "print(play_game(1))\n",
    "print(play_game(10))\n",
    "print(play_game(100))\n",
    "print(play_game(1000))\n",
    "\n",
    "    "
   ]
  },
  {
   "cell_type": "markdown",
   "metadata": {},
   "source": [
    "# Question 2 (Basic) - 1 point\n",
    "\n",
    "Your next task is to collect information about the probability distribution of number of rolls using the *play_game* function you implemented in the previous subquestion. Simulate playing the game 1000 times with a board length of 100 and record the number of rolls for each simulation. Show the histogram of the number of rolls for this simulation. You don't need to plot the histogram but can simply show the counts for each number of rolls as text. You can also create a plot using either the *matplotlib* or *bokeh* plotting frameworks. Make sure you include appropriate pip install and import statements in your notebook and check that it works in the Jupyterhub of the course. \n",
    "\n"
   ]
  },
  {
   "cell_type": "code",
   "execution_count": 4,
   "metadata": {},
   "outputs": [
    {
     "name": "stdout",
     "output_type": "stream",
     "text": [
      "Requirement already satisfied: matplotlib in /opt/conda/lib/python3.9/site-packages (3.4.3)\n",
      "Requirement already satisfied: pillow>=6.2.0 in /opt/conda/lib/python3.9/site-packages (from matplotlib) (8.4.0)\n",
      "Requirement already satisfied: kiwisolver>=1.0.1 in /opt/conda/lib/python3.9/site-packages (from matplotlib) (1.3.2)\n",
      "Requirement already satisfied: cycler>=0.10 in /opt/conda/lib/python3.9/site-packages (from matplotlib) (0.11.0)\n",
      "Requirement already satisfied: numpy>=1.16 in /opt/conda/lib/python3.9/site-packages (from matplotlib) (1.21.4)\n",
      "Requirement already satisfied: pyparsing>=2.2.1 in /opt/conda/lib/python3.9/site-packages (from matplotlib) (2.4.7)\n",
      "Requirement already satisfied: python-dateutil>=2.7 in /opt/conda/lib/python3.9/site-packages (from matplotlib) (2.8.1)\n",
      "Requirement already satisfied: six>=1.5 in /opt/conda/lib/python3.9/site-packages (from python-dateutil>=2.7->matplotlib) (1.16.0)\n",
      "Note: you may need to restart the kernel to use updated packages.\n"
     ]
    }
   ],
   "source": [
    "pip install matplotlib"
   ]
  },
  {
   "cell_type": "code",
   "execution_count": 5,
   "metadata": {
    "scrolled": true
   },
   "outputs": [
    {
     "data": {
      "image/png": "[encoded data removed]",
      "text/plain": [
       "<Figure size 432x288 with 1 Axes>"
      ]
     },
     "metadata": {
      "needs_background": "light"
     },
     "output_type": "display_data"
    }
   ],
   "source": [
    "# YOUR CODE GOES HERE \n",
    "import numpy as np\n",
    "from matplotlib import pyplot as plt\n",
    "\n",
    "\n",
    "def game_simulation(num_sims, board_len):\n",
    "    num_rolls = []\n",
    "    for i in range(num_sims):\n",
    "        num_rolls.append(play_game(board_len))\n",
    "    return num_rolls\n",
    "\n",
    "\n",
    "def plot_stats(stats):\n",
    "    plt.hist(stats, edgecolor ='black')\n",
    "    plt.title('Frequency of Rolls for Snakes and Ladders Completion')\n",
    "    plt.xlabel('Number of Rolls to Completion')\n",
    "    plt.ylabel('Frequency')\n",
    "    plt.tight_layout()\n",
    "    plt.show()\n",
    "    \n",
    "    \n",
    "plot_stats(game_simulation(1000,100))"
   ]
  },
  {
   "cell_type": "markdown",
   "metadata": {},
   "source": [
    "# Question 3 (Expected) 1 point \n",
    "\n",
    "Extent your *play_game* method to take as input a specification of snake and ladder positions and then perform the appropriate movement simulation. Just as before playing the game returns the number of rolls required to finish the game using the same simple end rule as the previous subquestions. \n",
    "\n",
    "<img src=\"snakes_ladders.png\" width=\"50%\"/>\n",
    "\n",
    "The snake and ladders positions will be encoded as a list of tuples. If the first number of the tuple is smaller than the second one it is ladder otherwise it is a snake. For example two of the snakes and one of the ladders\n",
    "in the board above would be represented as: "
   ]
  },
  {
   "cell_type": "code",
   "execution_count": 6,
   "metadata": {},
   "outputs": [
    {
     "name": "stdout",
     "output_type": "stream",
     "text": [
      "[(34, 6), (32, 10), (1, 38)]\n"
     ]
    }
   ],
   "source": [
    "snakeA = (34,6)\n",
    "snakeB = (32,10)\n",
    "ladderC = (1,38)\n",
    "snake_ladder_list = [snakeA,snakeB,ladderC]\n",
    "print(snake_ladder_list)"
   ]
  },
  {
   "cell_type": "markdown",
   "metadata": {},
   "source": [
    "Your play game function should take as input the snake and ladder specification. For testing and experiments use the board provided in the image above. "
   ]
  },
  {
   "cell_type": "code",
   "execution_count": 7,
   "metadata": {
    "scrolled": true
   },
   "outputs": [
    {
     "name": "stdout",
     "output_type": "stream",
     "text": [
      "28 rolls to complete snake and ladders with snake and ladder list.\n",
      "36 rolls to complete snake and ladders with snake and ladder list.\n",
      "26 rolls to complete snake and ladders with snake and ladder list.\n",
      "35 rolls to complete snake and ladders with snake and ladder list.\n",
      "46 rolls to complete snake and ladders with snake and ladder list.\n",
      "19 rolls to complete snake and ladders with snake and ladder list.\n",
      "28 rolls to complete snake and ladders with snake and ladder list.\n",
      "28 rolls to complete snake and ladders with snake and ladder list.\n",
      "31 rolls to complete snake and ladders with snake and ladder list.\n",
      "32 rolls to complete snake and ladders with snake and ladder list.\n"
     ]
    }
   ],
   "source": [
    "# YOUR CODE GOES HERE \n",
    "import random \n",
    "\n",
    "def is_snake(tup):\n",
    "    if tup[0] > tup[1]:\n",
    "        return True\n",
    "    return False\n",
    "\n",
    "def get_tup(loc, sl_list):\n",
    "    for i in sl_list:\n",
    "        if i[0] == loc:\n",
    "            temp = i\n",
    "            return temp\n",
    "        continue \n",
    "    return 0\n",
    "    \n",
    "\n",
    "def is_loc_sl(loc, sl_list):\n",
    "    for i in sl_list:\n",
    "        if i[0] == loc:\n",
    "            return True\n",
    "        pass\n",
    "    return False\n",
    "    \n",
    "def play_game(board_len, sl_list):\n",
    "    num_rolls = 0\n",
    "    location = 0\n",
    "    while location < board_len:\n",
    "        roll = random.randint(1,6)\n",
    "        location += roll\n",
    "        num_rolls += 1\n",
    "        if is_loc_sl(location, sl_list):\n",
    "            sl_loc = get_tup(location, sl_list)\n",
    "            if is_snake(sl_loc):\n",
    "                location = sl_loc[1]\n",
    "                continue \n",
    "            else:\n",
    "                location = sl_loc[1]\n",
    "                continue \n",
    "        else:\n",
    "            continue \n",
    "    return num_rolls \n",
    "\n",
    "\n",
    "for i in range(10):\n",
    "    print('{} rolls to complete snake and ladders with snake and ladder list.'.format(play_game(100, snake_ladder_list)))\n"
   ]
  },
  {
   "cell_type": "markdown",
   "metadata": {},
   "source": [
    "# QUESTION 4 (EXPECTED) - 1 point"
   ]
  },
  {
   "cell_type": "markdown",
   "metadata": {},
   "source": [
    "Use the full game simulation that incoprorates the snakes and ladders, simulate 1000 games and record \n",
    "probability distribution of the number of rolls as a histogram similarly to the previous subquestion. \n",
    "Modify your code to support the following additional ending variations: \n",
    "\n",
    "* Exact landing: the piece needs to end exactly at the last square. If the roll exceeds the square then it is discarded but counted for the number of rolls \n",
    "* Bounce back variation:  If the roll is too high, the player's piece will bounce off the last space and move back. For example, if a player had four spaces to get to 100 and rolled a 6, the piece will move four spaces to 100, then “bounce back\" two spaces to 98.\n",
    "\n",
    "\n",
    "Show the histogram of the number of rolls for each ending variation. "
   ]
  },
  {
   "cell_type": "code",
   "execution_count": 8,
   "metadata": {},
   "outputs": [
    {
     "name": "stdout",
     "output_type": "stream",
     "text": [
      "With exact game play\n"
     ]
    },
    {
     "data": {
      "image/png": "[encoded data removed]",
      "text/plain": [
       "<Figure size 432x288 with 1 Axes>"
      ]
     },
     "metadata": {
      "needs_background": "light"
     },
     "output_type": "display_data"
    },
    {
     "name": "stdout",
     "output_type": "stream",
     "text": [
      "With bounceback gameplay\n"
     ]
    },
    {
     "data": {
      "image/png": "[encoded data removed]",
      "text/plain": [
       "<Figure size 432x288 with 1 Axes>"
      ]
     },
     "metadata": {
      "needs_background": "light"
     },
     "output_type": "display_data"
    },
    {
     "name": "stdout",
     "output_type": "stream",
     "text": [
      "No specific gameplay\n"
     ]
    },
    {
     "data": {
      "image/png": "[encoded data removed]",
      "text/plain": [
       "<Figure size 432x288 with 1 Axes>"
      ]
     },
     "metadata": {
      "needs_background": "light"
     },
     "output_type": "display_data"
    }
   ],
   "source": [
    "# YOUR CODE GOES HERE\n",
    "import random \n",
    "\n",
    "def is_snake(tup):\n",
    "    if tup[0] > tup[1]:\n",
    "        return True\n",
    "    return False\n",
    "\n",
    "\n",
    "def get_tup(loc, sl_list):\n",
    "    for i in sl_list:\n",
    "        if i[0] == loc:\n",
    "            temp = i\n",
    "            return temp\n",
    "        continue \n",
    "    return 0\n",
    "    \n",
    "\n",
    "def is_loc_sl(loc, sl_list):\n",
    "    for i in sl_list:\n",
    "        if i[0] == loc:\n",
    "            return True\n",
    "        pass\n",
    "    return False\n",
    "\n",
    "\n",
    "def bounceback(loc, board_len, sl_list):\n",
    "    diff = loc - board_len\n",
    "    new_loc = board_len - diff\n",
    "    if is_loc_sl(new_loc, sl_list):\n",
    "        tup = get_tup(new_loc, sl_list)\n",
    "        if is_snake(tup):\n",
    "            new_loc = tup[1]\n",
    "            return new_loc\n",
    "        else:\n",
    "            new_loc = tup[1]\n",
    "            return new_loc\n",
    "    return new_loc\n",
    "    \n",
    "    \n",
    "    \n",
    "def play_game(board_len, sl_list, game_type = None ):\n",
    "    num_rolls = 0\n",
    "    location = 0\n",
    "    \n",
    "    if(game_type == 'bounceback'):\n",
    "        while location != board_len:\n",
    "            roll = random.randint(1,6)\n",
    "            location += roll\n",
    "            num_rolls += 1\n",
    "            if location > board_len:\n",
    "                location = bounceback(location, board_len, sl_list)\n",
    "                continue\n",
    "            elif is_loc_sl(location, sl_list):\n",
    "                sl_loc = get_tup(location, sl_list)\n",
    "                if is_snake(sl_loc):\n",
    "                    location = sl_loc[1]\n",
    "                    continue \n",
    "                else:\n",
    "                    location = sl_loc[1]\n",
    "                    continue \n",
    "            else:\n",
    "                continue \n",
    "        return num_rolls \n",
    "\n",
    "    elif(game_type == 'exact'):\n",
    "        while location != board_len:\n",
    "            roll = random.randint(1,6)\n",
    "            if location + roll > board_len:\n",
    "                num_rolls +=1 \n",
    "                continue \n",
    "            else:\n",
    "                location += roll\n",
    "                num_rolls += 1\n",
    "                if is_loc_sl(location, sl_list):\n",
    "                    sl_loc = get_tup(location, sl_list)\n",
    "                    if is_snake(sl_loc):\n",
    "                        location = sl_loc[1]\n",
    "                        continue \n",
    "                    else:\n",
    "                        location = sl_loc[1]\n",
    "                        continue \n",
    "                else:\n",
    "                    continue \n",
    "        return num_rolls  \n",
    "   \n",
    "    else:\n",
    "        while location < board_len:\n",
    "            roll = random.randint(1,6)\n",
    "            location += roll\n",
    "            num_rolls += 1\n",
    "            if is_loc_sl(location, sl_list):\n",
    "                sl_loc = get_tup(location, sl_list)\n",
    "                if is_snake(sl_loc):\n",
    "                    location = sl_loc[1]\n",
    "                    continue \n",
    "                else:\n",
    "                    location = sl_loc[1]\n",
    "                    continue \n",
    "            else:\n",
    "                continue \n",
    "        return num_rolls \n",
    "\n",
    "#----------------\n",
    "\n",
    "snake_ladder_list = [(62, 18), (97, 78), (95, 56), (88, 24), (36, 6), (48, 26), (32, 10),\n",
    "                     (80, 99), (21, 42), (1, 38), (71, 92), (28, 76), (50, 67), (8, 30), (4, 14)]\n",
    "\n",
    "        \n",
    "def game_simulation(num_sims, board_len, snake_ladder_list, gt):\n",
    "    num_rolls = []\n",
    "    for i in range(num_sims):\n",
    "        num_rolls.append(play_game(board_len, snake_ladder_list, gt))\n",
    "    return num_rolls\n",
    "\n",
    "\n",
    "def plot_stats(stats):\n",
    "    plt.hist(stats, edgecolor ='black')\n",
    "    plt.title('Frequency of Rolls for Snakes and Ladders Completion')\n",
    "    plt.xlabel('Number of Rolls to Completion')\n",
    "    plt.ylabel('Frequency')\n",
    "    plt.tight_layout()\n",
    "    plt.show()\n",
    "\n",
    "print('With exact game play')\n",
    "plot_stats(game_simulation(1000,100, snake_ladder_list, 'exact'))  \n",
    "print('With bounceback gameplay')\n",
    "plot_stats(game_simulation(1000,100, snake_ladder_list, 'bounceback'))  \n",
    "print('No specific gameplay')\n",
    "plot_stats(game_simulation(1000,100, snake_ladder_list, ''))  "
   ]
  },
  {
   "cell_type": "markdown",
   "metadata": {},
   "source": [
    "# QUESTION 5 (ADVANCED) - 1 point \n",
    "\n",
    "In this question the goal is to perform exact probabilistic inference for the number of rolls. Rather than simulating the game and recording the number of moves you will need to compute systematically the probabilities of every possible sequence of rolls. You should use the simplified version of board movement with no snakes and ladders and the simple landing rule. As an example let's consider a very short board of 4 squares. The only sequence of 1 roll that finishes the game is rolling a 4 which has $P(4) = 1/6$. For two rolls we have more possibilities such as 1,3 or 3,1 or 2,2 or 2,3 or 3,2 etc. For example the probability of (1,3) is $P(1,3) = 1/6 * 1/6$. Your code should systematically calculate the right products and sums to come up with probabilities for \n",
    "each possible number of rolls. To make this a bit simpler consider a board of length $25$. I advise that you first start by looking at very short boards and checking some of the calculations by hand. \n",
    "\n",
    "Compare the results you get from exact inference with the results you get from approximate inference for the same board length. "
   ]
  },
  {
   "cell_type": "code",
   "execution_count": 9,
   "metadata": {},
   "outputs": [
    {
     "name": "stdout",
     "output_type": "stream",
     "text": [
      "{1: 1, 2: 1, 3: 1, 4: 1, 5: 1, 6: 0.16666666666666666, 7: 1, 8: 1, 9: 0.16666666666666666, 10: 1, 11: 0.16666666666666666, 12: 1, 13: 1, 14: 0.16666666666666666, 15: 1, 16: 1, 17: 0.16666666666666666, 18: 1, 19: 1, 20: 1, 21: 0.16666666666666666, 22: 1, 23: 0.16666666666666666, 24: 1, 25: 0.16666666666666666}\n",
      "5.953741807651271e-05\n"
     ]
    }
   ],
   "source": [
    "# YOUR CODE GOES HERE \n",
    "import random \n",
    "\n",
    "location = {i:1 for i in range(1,26)}\n",
    "\n",
    "\n",
    "def compute_game_pr(loc, boardlen):\n",
    "    \n",
    "    roll = random.randint(1,6)\n",
    "    \n",
    "    if roll + loc >= boardlen:\n",
    "        location[boardlen] =1/6\n",
    "        return \n",
    "    else:\n",
    "        location[roll+loc] = 1/6\n",
    "        compute_game_pr(roll+loc, boardlen)\n",
    "\n",
    "compute_game_pr(0, 25)\n",
    "\n",
    "print(location)\n",
    "product = 1\n",
    "for k,v in location.items():\n",
    "    if location[k] != 1:\n",
    "        product *= v\n",
    "    else:\n",
    "        continue \n",
    "        \n",
    "print(product*100)"
   ]
  },
  {
   "cell_type": "markdown",
   "metadata": {},
   "source": [
    "# Extra ideas (no credit) \n",
    "\n",
    "* Implement a GUI for showing the snakes/ladders board and support multiple players \n"
   ]
  },
  {
   "cell_type": "markdown",
   "metadata": {},
   "source": [
    "# Text Categorization\n",
    "\n",
    "\n",
    "Text categorization is the task of assigning a given document to one of a fixed set of categories, on the basis of text it contains. Naive Bayes models are often used for this task. In these models, the query variable is\n",
    "the document category, and the effect variables are the presence/absence\n",
    "of each word in the language; the assumption is that words occur independently in documents within a given category (condititional independence), with frequencies determined by document category. Download the following file: http://www.cs.cornell.edu/People/pabo/movie-review-data/review_polarity.tar.gz containing a dataset that has been used for text mining consisting of movie reviews classified into negative and positive. You\n",
    "will see that there are two folders for the positivie and negative category and they each contain multiple text files with the reviews. You can find more information about the dataset at: \n",
    "http://www.cs.cornell.edu/People/pabo/movie-review-data/\n",
    "\n",
    "\n",
    "Our goal will be to build a simple Naive Bayes classifier for this dataset. More complicated approaches using term frequency and inverse document frequency weighting and many more words are possible but the basic concepts\n",
    "are the same. The goal is to understand the whole process so DO NOT use existing machine learning packages but rather build the classifier from scratch.\n",
    "\n",
    "Our feature vector representation for each text file will be simply a binary vector that shows which of the following words are present in the text file: Awful Bad Boring Dull Effective Enjoyable Great Hilarious. For example the text file cv996 11592.txt would be represented as (0, 0, 0, 0, 1, 0, 1, 0) because it contains Effective and Great but none of the other words."
   ]
  },
  {
   "cell_type": "markdown",
   "metadata": {},
   "source": [
    "# Question 6 (Basic) -1 point\n",
    "\n",
    "Write code that parses the text files and calculates the probabilities for each dictionary word given the review polarity\n"
   ]
  },
  {
   "cell_type": "code",
   "execution_count": 11,
   "metadata": {},
   "outputs": [
    {
     "name": "stdout",
     "output_type": "stream",
     "text": [
      "Probability of words occuring in the ./pos/pos/ polarity reviews:\n",
      "\n",
      "awful can be found in 19 of 1000 ./pos/pos/ polarity reviews for a probability of: 1.90%\n",
      "\n",
      "bad can be found in 255 of 1000 ./pos/pos/ polarity reviews for a probability of: 25.50%\n",
      "\n",
      "boring can be found in 48 of 1000 ./pos/pos/ polarity reviews for a probability of: 4.80%\n",
      "\n",
      "dull can be found in 23 of 1000 ./pos/pos/ polarity reviews for a probability of: 2.30%\n",
      "\n",
      "effective can be found in 120 of 1000 ./pos/pos/ polarity reviews for a probability of: 12.00%\n",
      "\n",
      "great can be found in 408 of 1000 ./pos/pos/ polarity reviews for a probability of: 40.80%\n",
      "\n",
      "hilarious can be found in 125 of 1000 ./pos/pos/ polarity reviews for a probability of: 12.50%\n",
      "\n",
      "Probability of words occuring in the ./neg/neg/ polarity reviews:\n",
      "\n",
      "awful can be found in 101 of 1000 ./neg/neg/ polarity reviews for a probability of: 10.10%\n",
      "\n",
      "bad can be found in 505 of 1000 ./neg/neg/ polarity reviews for a probability of: 50.50%\n",
      "\n",
      "boring can be found in 169 of 1000 ./neg/neg/ polarity reviews for a probability of: 16.90%\n",
      "\n",
      "dull can be found in 91 of 1000 ./neg/neg/ polarity reviews for a probability of: 9.10%\n",
      "\n",
      "effective can be found in 46 of 1000 ./neg/neg/ polarity reviews for a probability of: 4.60%\n",
      "\n",
      "great can be found in 286 of 1000 ./neg/neg/ polarity reviews for a probability of: 28.60%\n",
      "\n",
      "hilarious can be found in 50 of 1000 ./neg/neg/ polarity reviews for a probability of: 5.00%\n",
      "\n"
     ]
    }
   ],
   "source": [
    "# YOUR CODE GOES HERE \n",
    "#requires the files neg.zip and pos.zip to be in the same directory as the notebook file. It will grab from the \n",
    "#files if they are there. \n",
    "#this block must be run before 8,9 as it unzips the files that are worked with. The files unzip into the current working \n",
    "#directory as ./pos/pos/ and  ./neg/neg/ from there, each individual file can be worked with for the following problems. \n",
    "import os \n",
    "import zipfile\n",
    "\n",
    "words = ['awful', 'bad', 'boring', 'dull', 'effective', 'great', 'hilarious']\n",
    "\n",
    "#extracts the zip files so questions 6,8,9 can be run \n",
    "def env_setup(path, new_path):\n",
    "    with zipfile.ZipFile(path, 'r') as zip_ref:\n",
    "        zip_ref.extractall(new_path)\n",
    "\n",
    "        \n",
    "def vector_classification(target_words, folder, print_out = None):\n",
    "    wc_dict = {k:0 for k in target_words}\n",
    "    bin_vectors = []\n",
    "    for filename in os.listdir(folder):\n",
    "        if filename.endswith('.txt'):\n",
    "            bin_vector = [0 for i in range(len(target_words))]\n",
    "            try:\n",
    "                with open(os.path.join(folder, filename), 'r') as f:\n",
    "                    for line in f:\n",
    "                        for word in line.split():\n",
    "                            if word in target_words:\n",
    "                                bin_vector[target_words.index(word)] = 1\n",
    "                            else:\n",
    "                                pass\n",
    "                    bin_vectors.append(tuple(bin_vector))\n",
    "            except IsADirectoryError:\n",
    "                print('The given directory {} or {} is not in this directory.'.format(folder, filename))\n",
    "                continue\n",
    "            except FileNotFoundError:\n",
    "                print('The file is not in this directory.')\n",
    "                continue \n",
    "        else:\n",
    "            continue \n",
    "    \n",
    "    for i in bin_vectors:\n",
    "        count = 0\n",
    "        for j in i:\n",
    "            if j == 1:\n",
    "                wc_dict[words[count]] += 1\n",
    "                count += 1\n",
    "                continue \n",
    "            else: \n",
    "                count += 1\n",
    "                continue \n",
    "    \n",
    "    if print_out == True:\n",
    "        print('Probability of words occuring in the {} polarity reviews:\\n'.format(folder))\n",
    "        for k,v in wc_dict.items():\n",
    "            print('{} can be found in {} of {} {} polarity reviews for a probability of: {:.2f}%\\n'\n",
    "                   .format(k, v, len(bin_vectors), folder ,(v/len(bin_vectors))*100))\n",
    "        return\n",
    "    else: \n",
    "        return wc_dict\n",
    "\n",
    "\n",
    "path = './pos.zip'\n",
    "new_path = './pos'\n",
    "env_setup(path, new_path)\n",
    "path = './neg.zip'\n",
    "new_path = './neg'\n",
    "env_setup(path, new_path)\n",
    "\n",
    "vector_classification(words, './pos/pos/', True)\n",
    "vector_classification(words, './neg/neg/', True)\n",
    "\n",
    "\n",
    "\n",
    "\n"
   ]
  },
  {
   "cell_type": "markdown",
   "metadata": {},
   "source": [
    "# Question 7 (Basic)  - 1 point \n",
    "\n",
    "Explain how the probability estimates for each dictionary word given the review polarity can be combined to form a Naive Bayes classifier. You can look up Bernoulli Bayes model for this simple model where only presence/absence of a word is modeled.\n",
    "\n",
    "Your answer should be a description of the process with equations and a specific example as markdown text NOT python code. You will write the code in the next question. "
   ]
  },
  {
   "cell_type": "markdown",
   "metadata": {},
   "source": [
    "# YOUR CODE GOES HERE \n",
    "P(word | polarity) = P(polarity | word) * P(word) / P(polarity) => \n",
    "\n",
    "P(word | polarity) * P(polarity) / P(word) = P(polarity | word)\n",
    "\n",
    "We need to find the likleyhood of each word given that the polatriy is positive or negative. This will require checking all of the vector input data , and if there is a 1 in the vector then the probablity is the probability that was calculated and if there is a 0, it is the 1-(the probability that that word occurs given the polarity). These are multiplied together to ge the final product which is the Bernoulli Bayes classification model based on the presence or abscenece of a word. \n",
    "\n",
    "$P(polarity | word) = \\Sigma_{i = 1}^{n}   P(word_i | polarity) *  \\Sigma_{j = 1}^{k} 1 - P(word_j | polatiry) $ \n",
    "\n",
    "where i and j are the words who are present and not present respectivley. \n"
   ]
  },
  {
   "cell_type": "markdown",
   "metadata": {},
   "source": [
    "# QUESTION 8 (EXPECTED) 1 point\n",
    "\n",
    "Write Python code for classifying a particular test instance (in our case movie review) following a Bernolli Bayes approach. Your code should calculate the likelihood the review is positive given the correspondng conditional probabilities for each dictionary word as well as the likelihood the review is negative given the corresponding conditional probabilities for each dictionary word. Check that your code works by providing a few example cases of prediction. Your code should be written from \"scratch\" and only use numpy/scipy but **NOT** machine learning libraries like scikit-learn or tensorflow.\n",
    "\n"
   ]
  },
  {
   "cell_type": "code",
   "execution_count": 12,
   "metadata": {},
   "outputs": [
    {
     "name": "stdout",
     "output_type": "stream",
     "text": [
      "Testing random files for Bernoulli Bayes Naiive classifier. \n",
      "\n",
      "The probability that ./neg/neg/cv000_29416.txt is positive is: 10.61 % and the probabilty it is negative is: 22.19 %.\n",
      "It is more likley that the given file is a negative review.\n",
      "\n",
      "\n",
      "The probability that ./pos/pos/cv558_29507.txt is positive is: 21.36 % and the probabilty it is negative is: 8.71 %.\n",
      "It is more likley that the given file is a positive review.\n",
      "\n",
      "\n",
      "The probability that ./neg/neg/cv641_13412.txt is positive is: 3.05 % and the probabilty it is negative is: 0.46 %.\n",
      "It is more likley that the given file is a positive review.\n",
      "\n",
      "\n",
      "The probability that ./pos/pos/cv803_8207.txt is positive is: 21.36 % and the probabilty it is negative is: 8.71 %.\n",
      "It is more likley that the given file is a positive review.\n",
      "\n",
      "\n",
      "The probability that ./neg/neg/cv022_14227.txt is positive is: 10.61 % and the probabilty it is negative is: 22.19 %.\n",
      "It is more likley that the given file is a negative review.\n"
     ]
    }
   ],
   "source": [
    "# YOUR MARKDOWN GOES HERE \n",
    "#Assumes a path for the random file is given and like before, that the folders containing ./pos/pos and ./neg/neg are in the \n",
    "#assignment folder with the notebook.\n",
    "import os\n",
    "\n",
    "words = ['awful', 'bad', 'boring', 'dull', 'effective', 'great', 'hilarious']\n",
    "\n",
    "\n",
    "def likelyhood_calc(prob_dict1, prob_dict2, txt, word_list, print_out = None):\n",
    "    bin_vector = [0 for i in range(len(word_list))] \n",
    "    prob_product1 = 1.0\n",
    "    prob_product2 = 1.0\n",
    "    #get the file text and convert to binary representation of key_words\n",
    "    try:\n",
    "        with open(os.path.join(txt), 'r') as f:\n",
    "            for line in f:\n",
    "                for word in line.split():\n",
    "                    if word in word_list:\n",
    "                        bin_vector[word_list.index(word)] = 1\n",
    "    except FileNotFoundError:\n",
    "        print('Given random file not found. ')\n",
    "        return -1 \n",
    "    \n",
    "    except IsADirectoryError as k:\n",
    "        print(k, ' is not a file.')\n",
    "        return -1 \n",
    "\n",
    "    #positive calculation i = index of the word j = presence or not \n",
    "    for i,j  in enumerate(bin_vector):\n",
    "        if j == 1:\n",
    "            probability = prob_dict1[str(word_list[i])]/1000\n",
    "        else:\n",
    "            probability = 1 - (prob_dict1[str(word_list[i])]/1000)\n",
    "        prob_product1 *= probability \n",
    "  \n",
    "    #negative calculation \n",
    "    for i,j  in enumerate(bin_vector):\n",
    "        if j == 1:\n",
    "            probability = prob_dict2[str(word_list[i])]/1000\n",
    "        else:\n",
    "            probability = 1 - (prob_dict2[str(word_list[i])]/1000)\n",
    "        prob_product2 *= probability \n",
    "  \n",
    "\n",
    "    if print_out == True:\n",
    "        print('The probability that {} is positive is: {:.2f} % and the probabilty it is negative is: {:.2f} %.'\n",
    "              .format(txt, prob_product1 *100, prob_product2*100))\n",
    "        if prob_product1 > prob_product2:\n",
    "            print('It is more likley that the given file is a positive review.')\n",
    "        else:\n",
    "            print('It is more likley that the given file is a negative review.')\n",
    "        return\n",
    "    else:\n",
    "        return (prob_product1, prob_product2)\n",
    "\n",
    "    \n",
    "    \n",
    "    \n",
    "pos_dict = vector_classification(words, './pos/pos/', '')\n",
    "neg_dict = vector_classification(words, './neg/neg/', '')  \n",
    "print('Testing random files for Bernoulli Bayes Naiive classifier. \\n')\n",
    "likelyhood_calc(pos_dict, neg_dict, './neg/neg/cv000_29416.txt', words, True)\n",
    "print('\\n')\n",
    "likelyhood_calc(pos_dict, neg_dict, './pos/pos/cv558_29507.txt', words, True)\n",
    "print('\\n')\n",
    "likelyhood_calc(pos_dict, neg_dict, './neg/neg/cv641_13412.txt', words, True)\n",
    "print('\\n')\n",
    "likelyhood_calc(pos_dict, neg_dict, './pos/pos/cv803_8207.txt', words, True)\n",
    "print('\\n')\n",
    "likelyhood_calc(pos_dict, neg_dict, './neg/neg/cv022_14227.txt', words, True)\n",
    "    \n"
   ]
  },
  {
   "cell_type": "markdown",
   "metadata": {},
   "source": [
    "# QUESTION 9 (EXPECTED) 1 point \n",
    "\n",
    "\n",
    "Calculate the classification accuracy and confusion matrix that you would obtain using the whole data set for both training and testing. Do not use machine learning libraries like scikit-learn or tensorflow for this only the basic numpy/scipy stuff.\n",
    "\n",
    "\n"
   ]
  },
  {
   "cell_type": "code",
   "execution_count": 13,
   "metadata": {},
   "outputs": [
    {
     "name": "stdout",
     "output_type": "stream",
     "text": [
      "The accuracy of the classification is 74.60 % for positive reveiws and 60.10 % for negative reviews.\n",
      "For a total accuracy of 67.35 %\n",
      "With false positive of: 25.40%, false negative of: 39.90%, true positive of: 74.60%, and true negative of: 60.10%\n"
     ]
    }
   ],
   "source": [
    "# YOUR CODE GOES HERE \n",
    "import os \n",
    "\n",
    "words = ['awful', 'bad', 'boring', 'dull', 'effective', 'great', 'hilarious']\n",
    "\n",
    "def find_confusion_matrix(path1, path2, word_list):\n",
    "    word_dict_pos = vector_classification(word_list, path1, '')\n",
    "    word_dict_neg = vector_classification(word_list, path2, '')\n",
    "\n",
    "    #calculate the likelihoods in the positive/negative folders\n",
    "    pos_list = []\n",
    "    neg_list = []\n",
    "    for filename in os.listdir(path1):\n",
    "        val = likelyhood_calc(word_dict_pos, word_dict_neg, path1+'/'+filename, word_list, '')\n",
    "        if val == -1:\n",
    "            continue \n",
    "        else:\n",
    "            pos_list.append(val)\n",
    "            continue \n",
    "    for filename in os.listdir(path2):\n",
    "        val = likelyhood_calc(word_dict_pos, word_dict_neg, path2+'/'+filename, word_list, '')\n",
    "        if val == -1:\n",
    "            continue\n",
    "        else:\n",
    "            neg_list.append(val)\n",
    "            continue \n",
    "    \n",
    "    #determine how many false positves there are in each list of tuples containing the likelihoods \n",
    "    #given which reveiw polarity folder it came from\n",
    "    confusion_matrix = []\n",
    "\n",
    "    correct_pos = 0\n",
    "    pos_count = 0\n",
    "    for i in pos_list:\n",
    "        if i[0] > i[1]:\n",
    "            correct_pos += 1\n",
    "            pos_count += 1\n",
    "        else:\n",
    "            pos_count += 1\n",
    "    neg_count = 0\n",
    "    correct_neg = 0\n",
    "    for i in neg_list:\n",
    "        if i[1] > i[0]:\n",
    "            correct_neg +=1 \n",
    "            neg_count += 1\n",
    "        else:\n",
    "            neg_count += 1\n",
    "    \n",
    "    #add values to confusion matrix where;  [[predicted pos, predicted neg], [actual pos, actual neg]]\n",
    "    predicted = [pos_count, neg_count]\n",
    "    actual = [correct_pos, correct_neg]\n",
    "    confusion_matrix.append(predicted)\n",
    "    confusion_matrix.append(actual)\n",
    "    print('The accuracy of the classification is {:.2f} % for positive reveiws and {:.2f} % for negative reviews.'\n",
    "          .format((confusion_matrix[1][0]/confusion_matrix[0][0])*100, (confusion_matrix[1][1]/confusion_matrix[0][1])*100))\n",
    "    print('For a total accuracy of {:.2f} %'.format(((actual[0]+actual[1])/2000)*100))\n",
    "    print('With false positive of: {:.2f}%, false negative of: {:.2f}%, true positive of: {:.2f}%, and true negative of: {:.2f}%'\n",
    "            .format(((confusion_matrix[0][0] - confusion_matrix[1][0])/confusion_matrix[0][0])*100, \n",
    "                   ((confusion_matrix[0][1] - confusion_matrix[1][1])/confusion_matrix[0][1])*100,\n",
    "                   (confusion_matrix[1][0]/confusion_matrix[0][0])*100,\n",
    "                   (confusion_matrix[1][1]/confusion_matrix[0][1])*100))\n",
    "    \n",
    "find_confusion_matrix('./pos/pos', './neg/neg', words)\n",
    "    "
   ]
  },
  {
   "cell_type": "markdown",
   "metadata": {},
   "source": [
    "# QUESTION 10 (ADVANCED) 1 point \n",
    "\n",
    "One can consider the Naive Bayes classifier a generative model that can generate binary feature vectors using the associated probabilities from the training data. The idea is similar to how we do direct sampling in Bayesian Networks and depends on generating random number from a discrete distribution. Describe how you would generate random movie reviews consisting solely of the words from the dictionary using your model. Show 5 examples of randomly generated positive reviews and 5 examples of randomly generated negative reviews. Each example should consists of a subset of the words in the dictionary. Hint: use probabilities to generate both the presence and absence of a word. \n"
   ]
  },
  {
   "cell_type": "markdown",
   "metadata": {},
   "source": [
    "# Extra ideas (no credit) \n",
    "\n",
    "* Check the associated README file and see what convention is used for the 10-fold cross-validation. Calculate the classification accuracy and confusion matrix using the recommended 10-fold cross-validation. Again do NOT use \n",
    "ML libraries such as scikit-learn or tensorflow and just use numpy/scipy. \n",
    "* Implement the all the question using a ML library such as scikit-learn or tensorflow and a Naive Bayes Bernoulli classifier. \n"
   ]
  },
  {
   "cell_type": "code",
   "execution_count": null,
   "metadata": {},
   "outputs": [],
   "source": []
  },
  {
   "cell_type": "code",
   "execution_count": null,
   "metadata": {},
   "outputs": [],
   "source": []
  }
 ],
 "metadata": {
  "kernelspec": {
   "display_name": "Python 3",
   "language": "python",
   "name": "python3"
  },
  "language_info": {
   "codemirror_mode": {
    "name": "ipython",
    "version": 3
   },
   "file_extension": ".py",
   "mimetype": "text/x-python",
   "name": "python",
   "nbconvert_exporter": "python",
   "pygments_lexer": "ipython3",
   "version": "3.9.2"
  }
 },
 "nbformat": 4,
 "nbformat_minor": 4
}
